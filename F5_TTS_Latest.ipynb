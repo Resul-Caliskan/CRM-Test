{
  "nbformat": 4,
  "nbformat_minor": 0,
  "metadata": {
    "colab": {
      "provenance": [],
      "gpuType": "T4"
    },
    "kernelspec": {
      "name": "python3",
      "display_name": "Python 3"
    },
    "language_info": {
      "name": "python"
    },
    "accelerator": "GPU"
  },
  "cells": [
    {
      "cell_type": "code",
      "source": [
        "# !nvcc --version\n",
        "# https://pytorch.org/get-started/locally/\n",
        "# pip3 install torch torchvision torchaudio --index-url https://download.pytorch.org/whl/cu124\n"
      ],
      "metadata": {
        "id": "4v37Tp3_dI7l"
      },
      "execution_count": null,
      "outputs": []
    },
    {
      "cell_type": "code",
      "source": [
        "\n",
        "!pip install git+https://github.com/SWivid/F5-TTS.git\n",
        "from IPython.display import clear_output\n",
        "clear_output()"
      ],
      "metadata": {
        "id": "JzP3NJkiW9Em"
      },
      "execution_count": null,
      "outputs": []
    },
    {
      "cell_type": "code",
      "execution_count": null,
      "metadata": {
        "id": "dB3clv5KWtQG"
      },
      "outputs": [],
      "source": [
        "!f5-tts_infer-gradio --share"
      ]
    },
    {
      "cell_type": "code",
      "source": [
        "cd /content/ckpts/F5TTS_v1_Base/\n"
      ],
      "metadata": {
        "id": "8D2HeRneb2V_",
        "outputId": "1fbd2526-82f2-4376-c08f-26d210eb46bd",
        "colab": {
          "base_uri": "https://localhost:8080/"
        }
      },
      "execution_count": 7,
      "outputs": [
        {
          "output_type": "stream",
          "name": "stdout",
          "text": [
            "/content/ckpts/F5TTS_v1_Base\n"
          ]
        }
      ]
    },
    {
      "cell_type": "code",
      "source": [
        "! # YAML dosyasını Python ile oluştur\n",
        "yaml_content = \"\"\"model:\n",
        "  name: \"F5-TTS Turkish\"\n",
        "  architecture: \"F5TTS_v1_Base\"\n",
        "  vocab_size: 2555\n",
        "  sample_rate: 24000\n",
        "  checkpoint_path: \"/content/ckpts/F5TTS_v1_Base/f5_tts_turkish_1000000.safetensors\"\n",
        "\"\"\"\n",
        "\n",
        "with open(\"/content/ckpts/F5TTS_v1_Base/f5_tts_turkish_1000000.safetensors.yaml\", \"w\") as file:\n",
        "    file.write(yaml_content)\n",
        "\n",
        "print(\"✅ YAML dosyası başarıyla oluşturuldu!\")\n"
      ],
      "metadata": {
        "id": "zzeEZuC8cDJN",
        "outputId": "269b8660-6ed5-4200-f84f-b309141e9087",
        "colab": {
          "base_uri": "https://localhost:8080/"
        }
      },
      "execution_count": 9,
      "outputs": [
        {
          "output_type": "stream",
          "name": "stdout",
          "text": [
            "✅ YAML dosyası başarıyla oluşturuldu!\n"
          ]
        }
      ]
    },
    {
      "cell_type": "code",
      "source": [
        "!f5-tts_infer-cli --model /content/F5-TTS/src/f5_tts/configs/ckpts/F5TTS_v1_Base/f5_tts_turkish_1000000.safetensors \\\n",
        "--ref_audio \"/content/sedat.mp3\" \\\n",
        "--ref_text \"kıymetli kardeşlerim bildiğiniz üzere bir senedir paylaşım yapmamaktayım.\" \\\n",
        "--gen_text \"sentezlemek istediğiniz metin bu mudur kardeşim?\"\n"
      ],
      "metadata": {
        "colab": {
          "base_uri": "https://localhost:8080/"
        },
        "id": "89lQW3KXZ4up",
        "outputId": "c603684f-dba5-4696-c067-34c0fd29a1bb"
      },
      "execution_count": 10,
      "outputs": [
        {
          "output_type": "stream",
          "name": "stdout",
          "text": [
            "2025-03-14 11:39:04.648510: E external/local_xla/xla/stream_executor/cuda/cuda_fft.cc:477] Unable to register cuFFT factory: Attempting to register factory for plugin cuFFT when one has already been registered\n",
            "WARNING: All log messages before absl::InitializeLog() is called are written to STDERR\n",
            "E0000 00:00:1741952344.683836    8030 cuda_dnn.cc:8310] Unable to register cuDNN factory: Attempting to register factory for plugin cuDNN when one has already been registered\n",
            "E0000 00:00:1741952344.694928    8030 cuda_blas.cc:1418] Unable to register cuBLAS factory: Attempting to register factory for plugin cuBLAS when one has already been registered\n",
            "2025-03-14 11:39:04.730540: I tensorflow/core/platform/cpu_feature_guard.cc:210] This TensorFlow binary is optimized to use available CPU instructions in performance-critical operations.\n",
            "To enable the following instructions: AVX2 AVX512F FMA, in other operations, rebuild TensorFlow with the appropriate compiler flags.\n",
            "Download Vocos from huggingface charactr/vocos-mel-24khz\n",
            "Traceback (most recent call last):\n",
            "  File \"/usr/local/bin/f5-tts_infer-cli\", line 5, in <module>\n",
            "    from f5_tts.infer.infer_cli import main\n",
            "  File \"/content/F5-TTS/src/f5_tts/infer/infer_cli.py\", line 247, in <module>\n",
            "    model_cfg = OmegaConf.load(\n",
            "                ^^^^^^^^^^^^^^^\n",
            "  File \"/usr/local/lib/python3.11/dist-packages/omegaconf/omegaconf.py\", line 189, in load\n",
            "    with io.open(os.path.abspath(file_), \"r\", encoding=\"utf-8\") as f:\n",
            "         ^^^^^^^^^^^^^^^^^^^^^^^^^^^^^^^^^^^^^^^^^^^^^^^^^^^^^^\n",
            "FileNotFoundError: [Errno 2] No such file or directory: '/content/F5-TTS/src/f5_tts/configs/content/F5-TTS/src/f5_tts/configs/ckpts/F5TTS_v1_Base/f5_tts_turkish_1000000.safetensors.yaml'\n"
          ]
        }
      ]
    }
  ]
}